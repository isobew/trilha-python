{
  "nbformat": 4,
  "nbformat_minor": 0,
  "metadata": {
    "colab": {
      "provenance": []
    },
    "kernelspec": {
      "name": "python3",
      "display_name": "Python 3"
    },
    "language_info": {
      "name": "python"
    }
  },
  "cells": [
    {
      "cell_type": "code",
      "source": [
        "from image_processing.utils import io, plot\n",
        "from image_processing.processing import combination, transformation"
      ],
      "metadata": {
        "id": "LqPsSQHjTRWV"
      },
      "execution_count": null,
      "outputs": []
    },
    {
      "cell_type": "code",
      "source": [
        "image1 = io.read_image(caminho_da_imagem/nomedaimg.jpg)\n",
        "image2 = io.read_image(caminho_da_imagem2/nomedaimg2.jpg)"
      ],
      "metadata": {
        "id": "jVQNju3ATjxS"
      },
      "execution_count": null,
      "outputs": []
    },
    {
      "cell_type": "code",
      "source": [
        "plot.plot_image(image1)\n",
        "plot.plot_image(image2)"
      ],
      "metadata": {
        "id": "LAMs0q7DXy8f"
      },
      "execution_count": null,
      "outputs": []
    },
    {
      "cell_type": "code",
      "source": [
        "result_image = combination.transfer_histogram(image1, image2)\n",
        "plot.plot_result(image1, image2, result_image)"
      ],
      "metadata": {
        "id": "IxD_gXpbYHro"
      },
      "execution_count": null,
      "outputs": []
    },
    {
      "cell_type": "code",
      "source": [],
      "metadata": {
        "id": "wT7G_UKGYTyQ"
      },
      "execution_count": null,
      "outputs": []
    }
  ]
}